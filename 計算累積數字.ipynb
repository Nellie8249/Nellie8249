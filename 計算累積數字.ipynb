{
  "nbformat": 4,
  "nbformat_minor": 0,
  "metadata": {
    "colab": {
      "provenance": [],
      "authorship_tag": "ABX9TyMjBrvw7J9xgTuhSnxPjq83",
      "include_colab_link": true
    },
    "kernelspec": {
      "name": "python3",
      "display_name": "Python 3"
    },
    "language_info": {
      "name": "python"
    }
  },
  "cells": [
    {
      "cell_type": "markdown",
      "metadata": {
        "id": "view-in-github",
        "colab_type": "text"
      },
      "source": [
        "<a href=\"https://colab.research.google.com/github/Nellie8249/Nellie8249/blob/main/%E8%A8%88%E7%AE%97%E7%B4%AF%E7%A9%8D%E6%95%B8%E5%AD%97.ipynb\" target=\"_parent\"><img src=\"https://colab.research.google.com/assets/colab-badge.svg\" alt=\"Open In Colab\"/></a>"
      ]
    },
    {
      "cell_type": "code",
      "execution_count": 13,
      "metadata": {
        "id": "dd94Wr_SmEG6"
      },
      "outputs": [],
      "source": [
        "Q1 = 28347871"
      ]
    },
    {
      "cell_type": "code",
      "source": [
        "Q2 = 27002293"
      ],
      "metadata": {
        "id": "efGxrB1dtHOC"
      },
      "execution_count": 14,
      "outputs": []
    },
    {
      "cell_type": "code",
      "source": [
        "Q3 = 27668242"
      ],
      "metadata": {
        "id": "0OynYnY8tuGD"
      },
      "execution_count": 15,
      "outputs": []
    },
    {
      "cell_type": "code",
      "source": [
        "Q4 = 26295929"
      ],
      "metadata": {
        "id": "9EcEMwN9txUr"
      },
      "execution_count": 16,
      "outputs": []
    },
    {
      "cell_type": "code",
      "source": [
        "acc_Q1 = Q1\n",
        "print(acc_Q1)"
      ],
      "metadata": {
        "colab": {
          "base_uri": "https://localhost:8080/"
        },
        "id": "is9YXCq9tzTb",
        "outputId": "3a060817-2acd-4283-e4bc-8e604000411a"
      },
      "execution_count": 18,
      "outputs": [
        {
          "output_type": "stream",
          "name": "stdout",
          "text": [
            "28347871\n"
          ]
        }
      ]
    },
    {
      "cell_type": "code",
      "source": [
        "acc_Q2 = Q1 + Q2\n",
        "print(acc_Q2)"
      ],
      "metadata": {
        "colab": {
          "base_uri": "https://localhost:8080/"
        },
        "id": "YqylX43wvaBy",
        "outputId": "40a31b32-6358-4b13-f272-daac236ca61f"
      },
      "execution_count": 19,
      "outputs": [
        {
          "output_type": "stream",
          "name": "stdout",
          "text": [
            "55350164\n"
          ]
        }
      ]
    }
  ]
}